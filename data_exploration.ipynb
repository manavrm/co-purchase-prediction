{
 "cells": [
  {
   "cell_type": "markdown",
   "metadata": {},
   "source": [
    "# Link Prediction on the Amazon Co-Purchase Graph with GNNs\n",
    "\n",
    "## Data and Problem Statement - Overview\n",
    "\n",
    "In this project, I want to explore the use of Graph Neural Networks (GNNs) to model structural relationships in a real-world. I use the Amazon product co-purchasing network and ground-truth communities data on the SNAP repository (link - https://snap.stanford.edu/data/com-Amazon.html)\n",
    "\n",
    "A summary of the data:\n",
    "\n",
    "- This data is based on the \"Customers Who Bought This Item Also Bought\" feature that we see on the Amazon website.\n",
    "- Each node is an Amazon product. \n",
    "- An edge in this graph defines how often a product i has been co-purchased with product j - hence defining product-product relationships. \n",
    "- There is also the concept of a \"community\" for this graph, where each product's category provided in the Amazon catalog is a ground-truth community. Data at this level can also help us understand things that form at a community level.\n",
    "\n",
    "\n",
    "The core task that I want to focus on is **link prediction**:\n",
    "\n",
    "- Given two products, is there a way where we predict whether they should be connected in the co-purchase graph? \n",
    "- This is a classic problem in recommendation systems in e-commerce.\n",
    "- A large part of this graph can be unseen product pairs. There might be a lot of products across these different categories / communities, indicating sparsity (as we will see). \n",
    "- This approach will allows us to evaluate how well structural graph patterns can guide suggestions for these unseen product pairs.\n",
    "\n",
    "\n",
    "Modern recommendation systems focus heavily on how users interact with products in the catalog based on their view / add to cart / purchase patterns, and various other relevant signals that can be interpreted based on their activity on the e-commerce platform. By looking at product-product relationships through a graphical structure, we can gain underlying insights on questions like the following:\n",
    "\n",
    "- Are there specific dominant products (or) communities of products that are linked? How are they connected and how similar are they?\n",
    "- How expressive would node embeddings be by just considering the co-purchase context?\n",
    "- How representative can this data / a model trained on this data be to power recommendation algorithms?\n",
    "\n",
    "\n",
    "## Notebook Structure\n",
    "\n",
    "\n",
    "1. **Exploring the Amazon co-purchase data**: Parse and visualize the Amazon co-purchase graph. Analyze statistics such as degree distributions, component sizes, clustering, and community structure.\n",
    "3. **Task Framing**: Define the link prediction task as a binary classification problem.\n",
    "4. **Model Development**: Train a GNN to learn node embeddings and use a scoring function to predict links.\n",
    "5. **Evaluation & Insights**: Measure model performance and interpret results both quantitatively and qualitatively."
   ]
  },
  {
   "cell_type": "markdown",
   "metadata": {},
   "source": [
    "# Imports"
   ]
  },
  {
   "cell_type": "code",
   "execution_count": 1,
   "metadata": {},
   "outputs": [],
   "source": [
    "import gzip\n",
    "import json\n",
    "import matplotlib.pyplot as plt\n",
    "import networkx as nx\n",
    "import numpy as np\n",
    "import os\n",
    "import pandas as pd\n",
    "import seaborn as sns\n",
    "import sys\n",
    "\n",
    "from collections import Counter\n",
    "from pprint import pprint"
   ]
  },
  {
   "cell_type": "markdown",
   "metadata": {},
   "source": [
    "# Exploring the Amazon co-purchase dataset"
   ]
  },
  {
   "cell_type": "markdown",
   "metadata": {},
   "source": [
    "### Loading the graph data & summarizing basic overall graph statistics\n",
    "\n",
    "\n",
    "- Let us try to understand the structural properties of our co-purchase graph - to get an idea of how densely the products are connected and whether any global patterns emerge.\n",
    "\n",
    "- Below, we compute and summarize basic statistics of the graph, including the number of nodes and edges, average degree, graph density, clustering coefficient, and details about connectivity. \n",
    "\n",
    "<!-- These statistics not only help validate data quality but also guide how we construct models—for instance, sparse graphs with strong clustering may benefit from localized message passing in GNNs. -->\n",
    "\n",
    "<!-- The **largest connected component** is particularly important, as GNNs rely on connectivity for message propagation. We'll focus our modeling efforts on this component to ensure meaningful learning. -->\n"
   ]
  },
  {
   "cell_type": "code",
   "execution_count": 2,
   "metadata": {},
   "outputs": [],
   "source": [
    "def load_graph(file_path):\n",
    "    edges = []\n",
    "    with gzip.open(file_path, \"rt\") as f:\n",
    "        for line in f:\n",
    "            if line.startswith(\"#\"):\n",
    "                continue\n",
    "            source, target = map(int, line.strip().split())\n",
    "            edges.append((source, target))\n",
    "    return nx.Graph(edges)\n",
    "\n",
    "def basic_graph_stats(G):\n",
    "\n",
    "    number_of_nodes = G.number_of_nodes()\n",
    "    number_of_edges = G.number_of_edges()\n",
    "    degrees = dict(G.degree()).values()\n",
    "\n",
    "    stats = {\n",
    "        \"Number of nodes\": number_of_nodes,\n",
    "        \"Number of edges\": number_of_edges,\n",
    "        \"Average degree\": sum(degrees) / number_of_nodes if number_of_nodes > 0 else 0,\n",
    "        \"Density\": nx.density(G),\n",
    "        \"Average clustering coefficient\": nx.average_clustering(G),\n",
    "        \"Number of connected components\": nx.number_connected_components(G),\n",
    "        \"Size of largest component\": len(max(nx.connected_components(G), key=len)) if number_of_nodes > 0 else 0,\n",
    "    }\n",
    "    return stats"
   ]
  },
  {
   "cell_type": "code",
   "execution_count": 3,
   "metadata": {},
   "outputs": [
    {
     "name": "stdout",
     "output_type": "stream",
     "text": [
      "Graph has 334863 nodes and 925872 edges.\n",
      "\n",
      "\n",
      "\n",
      "*** OVERALL GRAPH STATISTICS ***\n",
      "\n",
      "{\n",
      "    \"Number of nodes\": 334863,\n",
      "    \"Number of edges\": 925872,\n",
      "    \"Average degree\": 5.529855493141971,\n",
      "    \"Density\": 1.6513834036534368e-05,\n",
      "    \"Average clustering coefficient\": 0.3967463932787655,\n",
      "    \"Number of connected components\": 1,\n",
      "    \"Size of largest component\": 334863\n",
      "}\n"
     ]
    }
   ],
   "source": [
    "graph = load_graph(file_path=\"data/raw/com-amazon.ungraph.txt.gz\")\n",
    "print(f\"Graph has {graph.number_of_nodes()} nodes and {graph.number_of_edges()} edges.\")\n",
    "\n",
    "stats = basic_graph_stats(graph)\n",
    "print(\"\\n\\n\\n*** OVERALL GRAPH STATISTICS ***\\n\")\n",
    "print(json.dumps(stats, indent=4))"
   ]
  },
  {
   "cell_type": "markdown",
   "metadata": {},
   "source": [
    "#### High-level Insights:\n",
    "\n",
    "\n",
    "- The statistics suggests that each product is co-purchased with 5–6 others on average, which is low in comparison to the overall number of products, and is typical purchase pattern in such platforms. \n",
    "\n",
    "- These 5-6 products that are linked are either similar category or something that complements each other. \n",
    "\n",
    "    - For example, {phone, phone-case, screen-protector} (or) {PS5, additional controller, charger for controllers} might be purchased together as they are contextually related and purchasing them together enhances the usability of the phone or the PS5. \n",
    "    - Another example could be {shampoo, conditioner, hair wax} - all same category and can be likely purchased together because someone wants to invest in hair products.\n",
    "\n",
    "- The graph is **extremely sparse** - a major chunk of products are not linked, as it should be.\n",
    "\n",
    "    - Links only exist for contextually similar or categorically similar products as seen above. \n",
    "    - The whole category has over 300k products and not every product is contextually related.\n",
    "\n",
    "- The average clustering coefficient of this graph is around ~0.4 and this is quite high for such a sparse graph. \n",
    "\n",
    "    - This means that there are some strong local communities.\n",
    "    - If a product A is co-purchased with B and C, then B and C are also very likely co-purchased with each other.\n",
    "\n",
    "- The graph is fully connected - there is a path that connects each product to every other via some sequence of co-purchases.\n",
    "\n",
    "These statistics confirm that the Amazon co-purchase graph exhibits **small-world properties** -  high local clustering and global connectivity (one connected component despite sparsity).\n"
   ]
  },
  {
   "cell_type": "markdown",
   "metadata": {},
   "source": [
    "### Community graph - High level Insights:"
   ]
  },
  {
   "cell_type": "markdown",
   "metadata": {},
   "source": [
    "- Each “community” in the dataset is defined as a connected component within a specific product category. \n",
    "\n",
    "- These groups reflect semantically coherent product clusters — such as books, electronics, or clothing — where intra-community interactions (e.g., co-purchases) are dense and meaningful."
   ]
  },
  {
   "cell_type": "code",
   "execution_count": 4,
   "metadata": {},
   "outputs": [
    {
     "name": "stdout",
     "output_type": "stream",
     "text": [
      "Total communities in file: 75149\n",
      "Line 0: '100005\t127545\t202036\t257630\t362970\t376927\t429080'\n",
      "Line 1: '10001\t27638\t51569\t88226\t116422\t126227\t159947\t162938\t184977\t188045\t191044\t246142\t265214\t290507\t296858\t300258\t341525\t348922\t359832\t365744\t382502\t390538\t410857\t433453\t479170\t489980\t540746'\n",
      "Line 2: '10001\t27638\t51569\t88226\t116422\t126227\t159947\t162938\t184977\t188045\t191044\t246142\t265214\t290507\t300258\t341525\t348922\t359832\t365744\t382502\t390538\t410857\t433453\t479170\t489980\t540746'\n",
      "Line 3: '100017\t118111\t263647\t268405\t315862'\n",
      "Line 4: '100020\t267700\t301658\t376628\t410518\t464375'\n",
      "Line 5: '100022\t298856\t412978\t472429'\n",
      "Line 6: '100025\t179592\t260929\t464366'\n",
      "Line 7: '100025\t260929\t328722\t411257'\n",
      "Line 8: '100025\t286364\t301821\t316953\t421421\t467329\t488266\t491602\t519950'\n",
      "Line 9: '100030\t106036\t209079\t289843'\n"
     ]
    }
   ],
   "source": [
    "filepath = \"data/raw/com-amazon.all.dedup.cmty.txt.gz\"\n",
    "all_cmty_nodes = set()\n",
    "with gzip.open(filepath, 'rt') as f:\n",
    "    line_count = sum(1 for _ in f)\n",
    "\n",
    "print(f\"Total communities in file: {line_count}\")\n",
    "\n",
    "with gzip.open(filepath, 'rt') as f:\n",
    "    for i in range(10):\n",
    "        line = f.readline()\n",
    "        print(f\"Line {i}: '{line.strip()}'\")"
   ]
  },
  {
   "cell_type": "code",
   "execution_count": 5,
   "metadata": {},
   "outputs": [
    {
     "name": "stdout",
     "output_type": "stream",
     "text": [
      "Total communities in file: 5000\n",
      "Line 0: '164985\t225214\t232761'\n",
      "Line 1: '105089\t282815\t331787'\n",
      "Line 2: '167906\t288975\t421279\t442612\t451312'\n",
      "Line 3: '69880\t231953\t518997\t523128'\n",
      "Line 4: '135499\t160294\t304770'\n",
      "Line 5: '112813\t112814\t112821\t112823'\n",
      "Line 6: '112813\t112814\t112821\t112823'\n",
      "Line 7: '199372\t399560\t447268\t471226\t522928'\n",
      "Line 8: '179001\t391697\t412528'\n",
      "Line 9: '21166\t207188\t405926\t531532\t540207'\n"
     ]
    }
   ],
   "source": [
    "filepath = \"data/raw/com-amazon.top5000.cmty.txt.gz\"\n",
    "all_cmty_nodes = set()\n",
    "with gzip.open(filepath, 'rt') as f:\n",
    "    line_count = sum(1 for _ in f)\n",
    "\n",
    "print(f\"Total communities in file: {line_count}\")\n",
    "\n",
    "with gzip.open(filepath, 'rt') as f:\n",
    "    for i in range(10):\n",
    "        line = f.readline()\n",
    "        print(f\"Line {i}: '{line.strip()}'\")"
   ]
  },
  {
   "cell_type": "code",
   "execution_count": 6,
   "metadata": {},
   "outputs": [],
   "source": [
    "def extract_top_communities_subgraph(G, community_path):\n",
    "    community_map = {}\n",
    "    community_id = 0\n",
    "\n",
    "    with gzip.open(community_path, 'rt') as f:\n",
    "        for line in f:\n",
    "            nodes = list(map(int, line.strip().split('\\t')))\n",
    "            for node in nodes:\n",
    "                if node in G and node not in community_map:\n",
    "                    community_map[node] = community_id\n",
    "            community_id += 1\n",
    "\n",
    "    selected_nodes = set(community_map.keys())\n",
    "    G_sub = G.subgraph(selected_nodes).copy()\n",
    "\n",
    "    return G_sub, community_map\n"
   ]
  },
  {
   "cell_type": "code",
   "execution_count": 7,
   "metadata": {},
   "outputs": [
    {
     "name": "stdout",
     "output_type": "stream",
     "text": [
      "Top-5000 community subgraph has 16716 nodes and 48739 edges.\n",
      "\n",
      "\n",
      "\n",
      "*** TOP-K COMMUNITY GRAPH STATISTICS ***\n",
      "\n",
      "{\n",
      "    \"Number of nodes\": 16716,\n",
      "    \"Number of edges\": 48739,\n",
      "    \"Average degree\": 5.831418999760708,\n",
      "    \"Density\": 0.00034887340710503786,\n",
      "    \"Average clustering coefficient\": 0.6488186833732773,\n",
      "    \"Number of connected components\": 1106,\n",
      "    \"Size of largest component\": 475\n",
      "}\n"
     ]
    }
   ],
   "source": [
    "_, entire_community_map = extract_top_communities_subgraph(\n",
    "    graph, community_path=\"data/raw/com-amazon.all.dedup.cmty.txt.gz\"\n",
    ")\n",
    "\n",
    "\n",
    "top_k_community_graph, top_k_community_map = extract_top_communities_subgraph(\n",
    "    graph, community_path=\"data/raw/com-amazon.top5000.cmty.txt.gz\"\n",
    ")\n",
    "print(f\"Top-5000 community subgraph has {top_k_community_graph.number_of_nodes()} nodes and {top_k_community_graph.number_of_edges()} edges.\")\n",
    "\n",
    "top_k_community_stats = basic_graph_stats(top_k_community_graph)\n",
    "print(\"\\n\\n\\n*** TOP-K COMMUNITY GRAPH STATISTICS ***\\n\")\n",
    "print(json.dumps(top_k_community_stats, indent=4))"
   ]
  },
  {
   "cell_type": "markdown",
   "metadata": {},
   "source": [
    "- The top-5000 community subgraph retains similar local structural properties - statistics such as average degree and clustering behavior is the same\n",
    "\n",
    "-  The difference is visible in the global structure - the subgraph is far denser and highly fragmented as there are many disconnected components. \n",
    "\n",
    "- Each top community is very densely connected internally but poorly connected externally, which was something that we observed in the overall graph.\n",
    "\n",
    "- If we only consider products that only belong to top-5000 communities, then we are not considering edges that go from the top-5000 communities to other products that are not part of the top-5000 communities. Those bridge edges are lost here.\n",
    "\n",
    "- Let us try to include the bridge edges for all the nodes and analyse again."
   ]
  },
  {
   "cell_type": "code",
   "execution_count": 8,
   "metadata": {},
   "outputs": [],
   "source": [
    "# Rewriting this function\n",
    "def extract_top_communities_subgraph(G, community_path):\n",
    "    import gzip\n",
    "\n",
    "    community_map = {}\n",
    "    community_id = 0\n",
    "\n",
    "    # Read top-k communities and build the node set\n",
    "    with gzip.open(community_path, 'rt') as f:\n",
    "        for line in f:\n",
    "            nodes = list(map(int, line.strip().split('\\t')))\n",
    "            for node in nodes:\n",
    "                if node in G and node not in community_map:\n",
    "                    community_map[node] = community_id\n",
    "            community_id += 1\n",
    "\n",
    "    top_k_nodes = set(community_map.keys())\n",
    "\n",
    "    # Include all edges where at least one node is in top-k\n",
    "    expanded_edges = [(u, v) for u, v in G.edges() if u in top_k_nodes or v in top_k_nodes]\n",
    "\n",
    "    # Build the new graph\n",
    "    G_expanded = nx.Graph()\n",
    "    G_expanded.add_edges_from(expanded_edges)\n",
    "\n",
    "    return G_expanded, community_map\n"
   ]
  },
  {
   "cell_type": "code",
   "execution_count": 9,
   "metadata": {},
   "outputs": [
    {
     "name": "stdout",
     "output_type": "stream",
     "text": [
      "Top-5000 expanded subgraph has 19905 nodes and 53780 edges\n",
      "\n",
      "\n",
      "\n",
      "*** TOP-K COMMUNITY EXPANDED GRAPH STATISTICS ***\n",
      "\n",
      "{\n",
      "    \"Number of nodes\": 19905,\n",
      "    \"Number of edges\": 53780,\n",
      "    \"Average degree\": 5.403667420246169,\n",
      "    \"Density\": 0.0002714865062422714,\n",
      "    \"Average clustering coefficient\": 0.5384229737133063,\n",
      "    \"Number of connected components\": 1044,\n",
      "    \"Size of largest component\": 481\n",
      "}\n"
     ]
    }
   ],
   "source": [
    "top_k_community_expanded_graph, top_k_community_expanded_map = extract_top_communities_subgraph(graph, \"data/raw/com-amazon.top5000.cmty.txt.gz\")\n",
    "\n",
    "print(f\"Top-5000 expanded subgraph has {top_k_community_expanded_graph.number_of_nodes()} nodes and {top_k_community_expanded_graph.number_of_edges()} edges\")\n",
    "\n",
    "top_k_community_expanded_stats = basic_graph_stats(top_k_community_expanded_graph)\n",
    "print(\"\\n\\n\\n*** TOP-K COMMUNITY EXPANDED GRAPH STATISTICS ***\\n\")\n",
    "print(json.dumps(top_k_community_expanded_stats, indent=4))"
   ]
  },
  {
   "cell_type": "markdown",
   "metadata": {},
   "source": [
    "| Metric                 | Top-5000 Only | Expanded Version     | Interpretation                                               |\n",
    "| ---------------------- | ------------- | -------------------- | ------------------------------------------------------------ |\n",
    "| Nodes                  | 16,716        | 19,905               | +3.2k bridge nodes added                                     |\n",
    "| Edges                  | 48,739        | 53,780               | \\~5k new edges, mostly community-to-outside                  |\n",
    "| Avg. Degree            | 5.83          | 5.40                 | Slight drop, expected since bridges dilute dense intra-links |\n",
    "| Density                | 0.00035       | 0.00027              | Slightly lower — again expected due to bridge sparsity       |\n",
    "| Avg. Clustering Coeff. | 0.65          | 0.54                 | Drop shows that bridge nodes are less clustered              |\n",
    "| Connected Components   | 1106          | 1044                 | Slight improvement in connectivity                           |\n",
    "| Largest Component Size | 475           | 481                  | Marginal increase                                            |"
   ]
  },
  {
   "cell_type": "markdown",
   "metadata": {},
   "source": [
    "- There are around ~5k new edges added and all of these are bridge edges, which add important context of co-purchasing patterns.\n",
    "\n",
    "- The average degree distribution is still consistent, and the clustering coefficient slightly drops and is now closer to the distributions in the overall graph.\n",
    "\n",
    "- Fragmentation has slightly reduced because of the introduction to the bridge edges.\n",
    "\n",
    "\n",
    "We can use the expanded version of the top_k community graph because:\n",
    "\n",
    "- The average clustering coefficient in this subset is 0.54, much higher than the full graph (0.39), indicating stronger local cohesion\n",
    "\n",
    "- Though this subset includes only ~5% of all nodes, it captures a significant portion of useful interaction patterns due to high internal density.\n",
    "\n",
    "- Hence we can constrain the problem to **predict future or missing co-purchase links between products within and near top-5000 communities**.\n",
    "\n",
    "- Here, **near** comes from past interactions (we included some links from top_k to non-top_k nodes)\n"
   ]
  },
  {
   "cell_type": "markdown",
   "metadata": {},
   "source": [
    "### Structural Analysis\n",
    "\n",
    "- Analyzing community structure helps reveal more information about graph relationships. \n",
    "\n",
    "- It can convey information about how consumers navigate the catalog, whether they buy within or across contexts and categories, and what kind of structural patterns govern co-purchases."
   ]
  },
  {
   "cell_type": "code",
   "execution_count": 10,
   "metadata": {},
   "outputs": [],
   "source": [
    "def degree_distribution_plot(G):\n",
    "    degrees = [d for n, d in G.degree()]\n",
    "    plt.hist(degrees, bins=100, log=True)\n",
    "    plt.xlabel(\"Node Degree\")\n",
    "    plt.ylabel(\"Frequency (log)\")\n",
    "    plt.title(\"Degree Distribution\")"
   ]
  },
  {
   "cell_type": "code",
   "execution_count": 11,
   "metadata": {},
   "outputs": [
    {
     "data": {
      "image/png": "[encoded data removed]",
      "text/plain": [
       "<Figure size 640x480 with 1 Axes>"
      ]
     },
     "metadata": {},
     "output_type": "display_data"
    }
   ],
   "source": [
    "degree_distribution_plot(top_k_community_expanded_graph)"
   ]
  },
  {
   "cell_type": "markdown",
   "metadata": {},
   "source": [
    "- The degree distribution follows a **long-tail pattern** - consistent with a power-law or **scale-free network**. Most nodes have low degree (1–5), while a few nodes are high-degree hubs with 30+ connections.\n",
    "\n",
    "- The log-scale frequency confirms that a small number of products dominate the co-purchase network."
   ]
  },
  {
   "cell_type": "code",
   "execution_count": 12,
   "metadata": {},
   "outputs": [],
   "source": [
    "def size_density_plot(G, community_map):\n",
    "\n",
    "    density_by_comm = {}\n",
    "    for cid in set(community_map.values()):\n",
    "        nodes = [n for n, c in community_map.items() if c == cid]\n",
    "        subg = G.subgraph(nodes)\n",
    "        density_by_comm[cid] = nx.density(subg)\n",
    "\n",
    "    # Plot size vs. density\n",
    "    import matplotlib.pyplot as plt\n",
    "\n",
    "    sizes = [len([n for n in community_map if community_map[n] == cid]) for cid in density_by_comm]\n",
    "    densities = list(density_by_comm.values())\n",
    "\n",
    "    plt.scatter(sizes, densities, alpha=0.5)\n",
    "    plt.xlabel(\"Community Size\")\n",
    "    plt.ylabel(\"Internal Edge Density\")\n",
    "    plt.title(\"Community Size vs Density\")\n"
   ]
  },
  {
   "cell_type": "code",
   "execution_count": 13,
   "metadata": {},
   "outputs": [
    {
     "data": {
      "image/png": "[encoded data removed]",
      "text/plain": [
       "<Figure size 640x480 with 1 Axes>"
      ]
     },
     "metadata": {},
     "output_type": "display_data"
    }
   ],
   "source": [
    "size_density_plot(top_k_community_expanded_graph, top_k_community_expanded_map)"
   ]
  },
  {
   "cell_type": "code",
   "execution_count": 14,
   "metadata": {},
   "outputs": [],
   "source": [
    "def community_size_distribution_plot(community_map):\n",
    "    community_sizes = Counter(community_map.values())\n",
    "    sns.histplot(list(community_sizes.values()), bins=50)"
   ]
  },
  {
   "cell_type": "code",
   "execution_count": 15,
   "metadata": {},
   "outputs": [
    {
     "data": {
      "image/png": "[encoded data removed]",
      "text/plain": [
       "<Figure size 640x480 with 1 Axes>"
      ]
     },
     "metadata": {},
     "output_type": "display_data"
    }
   ],
   "source": [
    "community_size_distribution_plot(top_k_community_expanded_map)"
   ]
  },
  {
   "cell_type": "markdown",
   "metadata": {},
   "source": [
    "- There is a inverse relationship between community size and internal edge density. Small communities (≤ 20 nodes) often have very high densities, which likely represent tightly interconnected product bundles.\n",
    "\n",
    "- As community size increases, density rapidly drops, indicating that larger communities are more diffuse and possibly span multiple subcategories or product types.\n",
    "\n",
    "- This shows that small, niche categories are highly cohesive, possibly representing co-purchase sets."
   ]
  },
  {
   "cell_type": "code",
   "execution_count": 16,
   "metadata": {},
   "outputs": [],
   "source": [
    "def bridge_ratio_plot(G, community_map):\n",
    "\n",
    "    bridge_ratios = {}\n",
    "    for cid in set(community_map.values()):\n",
    "        comm_nodes = set(n for n, c in community_map.items() if c == cid)\n",
    "        internal_edges = 0\n",
    "        bridge_edges = 0\n",
    "        for node in comm_nodes:\n",
    "            for neighbor in G.neighbors(node):\n",
    "                if neighbor in comm_nodes:\n",
    "                    internal_edges += 1\n",
    "                else:\n",
    "                    bridge_edges += 1\n",
    "        total_edges = internal_edges + bridge_edges\n",
    "        bridge_ratios[cid] = bridge_edges / total_edges if total_edges > 0 else 0\n",
    "\n",
    "    # Histogram of bridge ratios\n",
    "    plt.hist(list(bridge_ratios.values()), bins=20, edgecolor='black')\n",
    "    plt.xlabel(\"Bridge Ratio\")\n",
    "    plt.ylabel(\"Frequency\")\n",
    "    plt.title(\"Bridge Ratio Distribution\")\n",
    "    plt.show()"
   ]
  },
  {
   "cell_type": "code",
   "execution_count": 17,
   "metadata": {},
   "outputs": [
    {
     "data": {
      "image/png": "[encoded data removed]",
      "text/plain": [
       "<Figure size 640x480 with 1 Axes>"
      ]
     },
     "metadata": {},
     "output_type": "display_data"
    }
   ],
   "source": [
    "bridge_ratio_plot(top_k_community_expanded_graph, top_k_community_expanded_map)"
   ]
  },
  {
   "cell_type": "markdown",
   "metadata": {},
   "source": [
    "- The majority of communities have low bridge ratios (< 0.2), indicating that most edges are internal. We could see this when expanding only gave 5k more edges.\n",
    "\n",
    "- A few have a bridge ratio close to 1, meaning nearly all edges connect to other communities."
   ]
  }
 ],
 "metadata": {
  "kernelspec": {
   "display_name": "conda-env",
   "language": "python",
   "name": "python3"
  },
  "language_info": {
   "codemirror_mode": {
    "name": "ipython",
    "version": 3
   },
   "file_extension": ".py",
   "mimetype": "text/x-python",
   "name": "python",
   "nbconvert_exporter": "python",
   "pygments_lexer": "ipython3",
   "version": "3.10.13"
  }
 },
 "nbformat": 4,
 "nbformat_minor": 2
}
