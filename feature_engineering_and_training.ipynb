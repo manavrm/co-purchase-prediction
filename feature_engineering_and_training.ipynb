{
 "cells": [
  {
   "cell_type": "markdown",
   "metadata": {},
   "source": [
    "# Link Prediction - Data Preparation & Feature Engineering"
   ]
  },
  {
   "cell_type": "markdown",
   "metadata": {},
   "source": [
    "# Imports"
   ]
  },
  {
   "cell_type": "code",
   "execution_count": 1,
   "metadata": {},
   "outputs": [
    {
     "name": "stderr",
     "output_type": "stream",
     "text": [
      "/Users/manavrajivmoorthy/miniconda3/envs/conda-env/lib/python3.10/site-packages/tqdm/auto.py:21: TqdmWarning: IProgress not found. Please update jupyter and ipywidgets. See https://ipywidgets.readthedocs.io/en/stable/user_install.html\n",
      "  from .autonotebook import tqdm as notebook_tqdm\n",
      "/Users/manavrajivmoorthy/miniconda3/envs/conda-env/lib/python3.10/site-packages/torchvision/io/image.py:13: UserWarning: Failed to load image Python extension: 'dlopen(/Users/manavrajivmoorthy/miniconda3/envs/conda-env/lib/python3.10/site-packages/torchvision/image.so, 0x0006): Symbol not found: __ZN3c1017RegisterOperatorsD1Ev\n",
      "  Referenced from: <5AA8DD3D-A2CC-31CA-8060-88B4E9C18B09> /Users/manavrajivmoorthy/miniconda3/envs/conda-env/lib/python3.10/site-packages/torchvision/image.so\n",
      "  Expected in:     <96E2C2A1-D31F-3F37-9DC7-15611722739E> /Users/manavrajivmoorthy/miniconda3/envs/conda-env/lib/libtorch_cpu.dylib'If you don't plan on using image functionality from `torchvision.io`, you can ignore this warning. Otherwise, there might be something wrong with your environment. Did you have `libjpeg` or `libpng` installed before building `torchvision` from source?\n",
      "  warn(\n"
     ]
    }
   ],
   "source": [
    "import ast\n",
    "import gzip\n",
    "import joblib\n",
    "import matplotlib.pyplot as plt\n",
    "import networkx as nx\n",
    "import numpy as np\n",
    "import pandas as pd\n",
    "import torch\n",
    "\n",
    "from sentence_transformers import SentenceTransformer\n",
    "from sklearn.metrics import (\n",
    "    roc_auc_score,\n",
    "    average_precision_score,\n",
    "    precision_recall_curve,\n",
    "    roc_curve,\n",
    "    auc,\n",
    ")\n",
    "from sklearn.preprocessing import OneHotEncoder, StandardScaler\n",
    "from torch_geometric.data import Data\n",
    "from torch_geometric.nn import SAGEConv\n",
    "from torch_geometric.nn.models import Node2Vec\n",
    "from torch_geometric.transforms import RandomLinkSplit\n",
    "from torch_geometric.utils import from_networkx, to_networkx, negative_sampling\n",
    "from torch import nn\n",
    "from torch.nn import functional as F\n",
    "from tqdm import tqdm"
   ]
  },
  {
   "cell_type": "markdown",
   "metadata": {},
   "source": [
    "# Data Preparation"
   ]
  },
  {
   "cell_type": "markdown",
   "metadata": {},
   "source": [
    "### Recreating the community subgraph"
   ]
  },
  {
   "cell_type": "code",
   "execution_count": 2,
   "metadata": {},
   "outputs": [],
   "source": [
    "def load_graph(file_path):\n",
    "    edges = []\n",
    "    with gzip.open(file_path, \"rt\") as f:\n",
    "        for line in f:\n",
    "            if line.startswith(\"#\"):\n",
    "                continue\n",
    "            source, target = map(int, line.strip().split())\n",
    "            edges.append((source, target))\n",
    "    return nx.Graph(edges)\n",
    "\n",
    "\n",
    "def extract_top_communities_subgraph(G, community_path):\n",
    "\n",
    "    community_map = {}\n",
    "    community_id = 0\n",
    "\n",
    "    # Read top-k communities and build the node set\n",
    "    with gzip.open(community_path, \"rt\") as f:\n",
    "        for line in f:\n",
    "            nodes = list(map(int, line.strip().split(\"\\t\")))\n",
    "            for node in nodes:\n",
    "                if node in G and node not in community_map:\n",
    "                    community_map[node] = community_id\n",
    "            community_id += 1\n",
    "\n",
    "    top_k_nodes = set(community_map.keys())\n",
    "\n",
    "    # Include all edges where at least one node is in top-k\n",
    "    expanded_edges = [\n",
    "        (u, v) for u, v in G.edges() if u in top_k_nodes or v in top_k_nodes\n",
    "    ]\n",
    "\n",
    "    # Build the new graph\n",
    "    G_expanded = nx.Graph()\n",
    "    G_expanded.add_edges_from(expanded_edges)\n",
    "\n",
    "    return G_expanded, community_map"
   ]
  },
  {
   "cell_type": "code",
   "execution_count": 3,
   "metadata": {},
   "outputs": [
    {
     "name": "stdout",
     "output_type": "stream",
     "text": [
      "Top-5000 expanded subgraph has 19905 nodes and 53780 edges\n"
     ]
    }
   ],
   "source": [
    "graph = load_graph(file_path=\"data/raw/com-amazon.ungraph.txt.gz\")\n",
    "G, community_map = extract_top_communities_subgraph(\n",
    "    graph, \"data/raw/com-amazon.top5000.cmty.txt.gz\"\n",
    ")\n",
    "\n",
    "print(\n",
    "    f\"Top-5000 expanded subgraph has {G.number_of_nodes()} nodes and {G.number_of_edges()} edges\"\n",
    ")"
   ]
  },
  {
   "cell_type": "code",
   "execution_count": 4,
   "metadata": {},
   "outputs": [
    {
     "name": "stdout",
     "output_type": "stream",
     "text": [
      "Data(edge_index=[2, 107560], num_nodes=19905)\n"
     ]
    }
   ],
   "source": [
    "data = from_networkx(G)\n",
    "data.num_nodes = G.number_of_nodes()\n",
    "print(data)"
   ]
  },
  {
   "cell_type": "code",
   "execution_count": 5,
   "metadata": {},
   "outputs": [],
   "source": [
    "metadata_df = pd.read_csv(\"data/raw/amazon_metadata.csv\")"
   ]
  },
  {
   "cell_type": "code",
   "execution_count": 6,
   "metadata": {},
   "outputs": [
    {
     "data": {
      "text/plain": [
       "{'id': 75,\n",
       " 'asin': '0786863919',\n",
       " 'title': 'Disney A to Z : The Updated Official Encyclopedia (Disney a to Z)',\n",
       " 'group': 'Book',\n",
       " 'salesrank': 161879.0,\n",
       " 'categories': \"['|Books[283155]|Subjects[1000]|Entertainment[86]|Movies[4484]|Reference[4498]', '|Books[283155]|Subjects[1000]|Entertainment[86]|Television[4569]|Reference[4574]', '|Books[283155]|Subjects[1000]|Home & Garden[48]|Antiques & Collectibles[5066]|Americana[5067]', '|Books[283155]|Subjects[1000]|Reference[21]|Encyclopedias[11713]|Art[11716]', '|Books[283155]|Subjects[1000]|Entertainment[86]|Movies[4484]|Encyclopedias[11726]', '|Books[283155]|Subjects[1000]|Reference[21]|Encyclopedias[11713]|Pop Culture[11751]', '|Books[283155]|Subjects[1000]|Reference[21]|Encyclopedias[11713]|Television[11757]', 'reviews: total: 9  downloaded: 9  avg rating: 4.5', '1998-9-22  cutomer:  ATVPDKIKX0DER  rating: 5  votes:   4  helpful:   4', '1998-12-24  cutomer:  ATVPDKIKX0DER  rating: 5  votes:   8  helpful:   8', '1999-6-16  cutomer:  ATVPDKIKX0DER  rating: 5  votes:  11  helpful:  11', '2000-3-29  cutomer: A3J8CSV0X3DBRF  rating: 5  votes:   6  helpful:   0', '2000-6-1  cutomer:   A9D8VW6KQD8O  rating: 4  votes:   9  helpful:   3', '2002-4-16  cutomer:  ACCD886V4038J  rating: 5  votes:   2  helpful:   2', '2003-1-11  cutomer: A1J5XKY649DQF5  rating: 4  votes:   0  helpful:   0', '2003-2-22  cutomer:  AYTTBFL34EVAD  rating: 5  votes:   3  helpful:   3', '2004-12-21  cutomer:  AHDBEIR9YT1QB  rating: 4  votes:   0  helpful:   0']\",\n",
       " 'avg_rating': nan,\n",
       " 'num_reviews': nan}"
      ]
     },
     "execution_count": 6,
     "metadata": {},
     "output_type": "execute_result"
    }
   ],
   "source": [
    "metadata_df.iloc[75].to_dict()"
   ]
  },
  {
   "cell_type": "code",
   "execution_count": 7,
   "metadata": {},
   "outputs": [],
   "source": [
    "def clean_categories(row):\n",
    "    try:\n",
    "        items = ast.literal_eval(row)  # turn string into list\n",
    "        return [x for x in items if \"|\" in x and \"review\" not in x.lower()]\n",
    "    except:\n",
    "        return []"
   ]
  },
  {
   "cell_type": "code",
   "execution_count": 8,
   "metadata": {},
   "outputs": [],
   "source": [
    "metadata_df[\"categories\"] = metadata_df[\"categories\"].apply(clean_categories)"
   ]
  },
  {
   "cell_type": "code",
   "execution_count": 9,
   "metadata": {},
   "outputs": [
    {
     "data": {
      "text/plain": [
       "{'id': 75,\n",
       " 'asin': '0786863919',\n",
       " 'title': 'Disney A to Z : The Updated Official Encyclopedia (Disney a to Z)',\n",
       " 'group': 'Book',\n",
       " 'salesrank': 161879.0,\n",
       " 'categories': ['|Books[283155]|Subjects[1000]|Entertainment[86]|Movies[4484]|Reference[4498]',\n",
       "  '|Books[283155]|Subjects[1000]|Entertainment[86]|Television[4569]|Reference[4574]',\n",
       "  '|Books[283155]|Subjects[1000]|Home & Garden[48]|Antiques & Collectibles[5066]|Americana[5067]',\n",
       "  '|Books[283155]|Subjects[1000]|Reference[21]|Encyclopedias[11713]|Art[11716]',\n",
       "  '|Books[283155]|Subjects[1000]|Entertainment[86]|Movies[4484]|Encyclopedias[11726]',\n",
       "  '|Books[283155]|Subjects[1000]|Reference[21]|Encyclopedias[11713]|Pop Culture[11751]',\n",
       "  '|Books[283155]|Subjects[1000]|Reference[21]|Encyclopedias[11713]|Television[11757]'],\n",
       " 'avg_rating': nan,\n",
       " 'num_reviews': nan}"
      ]
     },
     "execution_count": 9,
     "metadata": {},
     "output_type": "execute_result"
    }
   ],
   "source": [
    "metadata_df.iloc[75].to_dict()"
   ]
  },
  {
   "cell_type": "markdown",
   "metadata": {},
   "source": [
    "### Feature Engineering - Approach 1\n",
    "\n",
    "Extract **numeric features** directly from metadata:\n",
    "\n",
    "- `salesrank`: Product’s sales rank (higher = less popular)\n",
    "- `avg_rating`: Average review rating\n",
    "- `num_reviews`: Number of reviews\n",
    "\n",
    "Fill missing values with 0, use standard scaler normalization.\n",
    "\n",
    "Extract **categorical features** using a multilabel binarizer.\n",
    "\n",
    "- if a product belongs to multiple categories, all are marked with 1s in the corresponding columns."
   ]
  },
  {
   "cell_type": "code",
   "execution_count": 10,
   "metadata": {},
   "outputs": [],
   "source": [
    "def build_feature_matrix_train(G, metadata_df, use_title_feats=True):\n",
    "\n",
    "    node_ids = list(G.nodes())\n",
    "    node_df = pd.DataFrame({\"id\": node_ids})\n",
    "    merged = node_df.merge(metadata_df, on=\"id\", how=\"left\")\n",
    "\n",
    "    # Fill missing values and derive new features\n",
    "    merged[\"salesrank\"] = merged[\"salesrank\"].fillna(0)\n",
    "    merged[\"avg_rating\"] = merged[\"avg_rating\"].fillna(0)\n",
    "    merged[\"num_reviews\"] = merged[\"num_reviews\"].fillna(0)\n",
    "    merged[\"log_salesrank\"] = np.log1p(merged[\"salesrank\"])\n",
    "\n",
    "    # Graph centralities (train only)\n",
    "    import networkx as nx\n",
    "\n",
    "    degree = nx.degree_centrality(G)\n",
    "    closeness = nx.closeness_centrality(G)\n",
    "    try:\n",
    "        eigenvector = nx.eigenvector_centrality_numpy(G)\n",
    "    except:\n",
    "        eigenvector = nx.eigenvector_centrality(G, max_iter=1000)\n",
    "\n",
    "    merged[\"degree_centrality\"] = merged[\"id\"].map(degree)\n",
    "    merged[\"closeness_centrality\"] = merged[\"id\"].map(closeness)\n",
    "    merged[\"eigenvector_centrality\"] = merged[\"id\"].map(eigenvector)\n",
    "\n",
    "    # Numerical features\n",
    "    num_cols = [\n",
    "        \"log_salesrank\",\n",
    "        \"avg_rating\",\n",
    "        \"num_reviews\",\n",
    "        \"degree_centrality\",\n",
    "        \"closeness_centrality\",\n",
    "        \"eigenvector_centrality\",\n",
    "    ]\n",
    "    merged[num_cols] = merged[num_cols].replace([np.inf, -np.inf], np.nan).fillna(0)\n",
    "    merged[num_cols] = merged[num_cols].clip(-1e5, 1e5)\n",
    "\n",
    "    scaler = StandardScaler()\n",
    "    num_feats = scaler.fit_transform(merged[num_cols])\n",
    "\n",
    "    # One-hot encode 'group'\n",
    "    group_encoder = OneHotEncoder(sparse_output=False, handle_unknown=\"ignore\")\n",
    "    group_feats = group_encoder.fit_transform(merged[[\"group\"]].fillna(\"Unknown\"))\n",
    "\n",
    "    # Title embeddings\n",
    "    if use_title_feats:\n",
    "        model = SentenceTransformer(\"all-MiniLM-L6-v2\")\n",
    "        titles = merged[\"title\"].fillna(\"\").tolist()\n",
    "        title_embeddings = []\n",
    "\n",
    "        for emb in tqdm(\n",
    "            model.encode(titles, batch_size=256, show_progress_bar=False),\n",
    "            desc=\"Encoding Titles\",\n",
    "        ):\n",
    "            title_embeddings.append(emb)\n",
    "\n",
    "        title_embeddings = np.vstack(title_embeddings)\n",
    "    else:\n",
    "        model = None\n",
    "\n",
    "    # Concatenate all features\n",
    "    full_features = (\n",
    "        np.hstack([num_feats, group_feats, title_embeddings])\n",
    "        if use_title_feats\n",
    "        else np.hstack([num_feats, group_feats])\n",
    "    )\n",
    "    feature_tensor = torch.tensor(full_features, dtype=torch.float32)\n",
    "\n",
    "    # Save all for reuse\n",
    "    torch.save(feature_tensor, f\"data/processed/train_features.pt\")\n",
    "    joblib.dump(scaler, f\"data/processed/scaler.pkl\")\n",
    "    joblib.dump(group_encoder, f\"data/processed/group_encoder.pkl\")\n",
    "    np.save(f\"data/processed/node_ids.npy\", merged[\"id\"].values)\n",
    "\n",
    "    return feature_tensor, merged[\"id\"].values, scaler, group_encoder, model"
   ]
  },
  {
   "cell_type": "code",
   "execution_count": 11,
   "metadata": {},
   "outputs": [],
   "source": [
    "def build_feature_matrix_valtest(\n",
    "    G, metadata_df, scaler, group_encoder, title_model, use_title_feats=True\n",
    "):\n",
    "    # Step 1: Align metadata to graph nodes\n",
    "    node_ids = list(G.nodes())\n",
    "    node_df = pd.DataFrame({\"id\": node_ids})\n",
    "    merged = node_df.merge(metadata_df, on=\"id\", how=\"left\")\n",
    "\n",
    "    # Step 2: Clean numeric fields\n",
    "    merged[\"salesrank\"] = merged[\"salesrank\"].fillna(0)\n",
    "    merged[\"avg_rating\"] = merged[\"avg_rating\"].fillna(0)\n",
    "    merged[\"num_reviews\"] = merged[\"num_reviews\"].fillna(0)\n",
    "    merged[\"log_salesrank\"] = np.log1p(merged[\"salesrank\"])\n",
    "\n",
    "    # Step 3: Use dummy values for centrality metrics in val/test\n",
    "    merged[\"degree_centrality\"] = 0\n",
    "    merged[\"closeness_centrality\"] = 0\n",
    "    merged[\"eigenvector_centrality\"] = 0\n",
    "\n",
    "    # Step 4: Normalize numeric + dummy centrality features using training scaler\n",
    "    num_cols = [\n",
    "        \"log_salesrank\",\n",
    "        \"avg_rating\",\n",
    "        \"num_reviews\",\n",
    "        \"degree_centrality\",\n",
    "        \"closeness_centrality\",\n",
    "        \"eigenvector_centrality\",\n",
    "    ]\n",
    "    merged[num_cols] = merged[num_cols].replace([np.inf, -np.inf], np.nan).fillna(0)\n",
    "    merged[num_cols] = merged[num_cols].clip(lower=-1e5, upper=1e5)\n",
    "    num_feats = scaler.transform(merged[num_cols])\n",
    "\n",
    "    # Step 5: Group one-hot encoding using fitted encoder\n",
    "    group_feats = group_encoder.transform(merged[[\"group\"]].fillna(\"Unknown\"))\n",
    "\n",
    "    # Step 6: Title embeddings using pretrained sentence transformer\n",
    "    if use_title_feats:\n",
    "        titles = merged[\"title\"].fillna(\"\").tolist()\n",
    "        title_embeddings = []\n",
    "        for i in tqdm(range(0, len(titles), 512), desc=\"Generating title embeddings\"):\n",
    "            batch = titles[i : i + 512]\n",
    "            title_embeddings.extend(title_model.encode(batch, show_progress_bar=False))\n",
    "        title_feats = np.array(title_embeddings)\n",
    "\n",
    "    # Step 7: Concatenate all features\n",
    "    x = (\n",
    "        np.hstack([num_feats, group_feats, title_feats])\n",
    "        if use_title_feats\n",
    "        else np.hstack([num_feats, group_feats])\n",
    "    )\n",
    "    return torch.tensor(x, dtype=torch.float32), merged[\"id\"].values"
   ]
  },
  {
   "cell_type": "code",
   "execution_count": 12,
   "metadata": {},
   "outputs": [],
   "source": [
    "pyg_data = from_networkx(G)\n",
    "\n",
    "splitter = RandomLinkSplit(\n",
    "    is_undirected=True,\n",
    "    add_negative_train_samples=True,\n",
    "    num_val=0.15,\n",
    "    num_test=0.15,\n",
    "    split_labels=True,\n",
    ")\n",
    "\n",
    "train_data, val_data, test_data = splitter(pyg_data)"
   ]
  },
  {
   "cell_type": "code",
   "execution_count": 13,
   "metadata": {},
   "outputs": [
    {
     "name": "stderr",
     "output_type": "stream",
     "text": [
      "/Users/manavrajivmoorthy/miniconda3/envs/conda-env/lib/python3.10/site-packages/pandas/core/arraylike.py:399: RuntimeWarning: divide by zero encountered in log1p\n",
      "  result = getattr(ufunc, method)(*inputs, **kwargs)\n",
      "Encoding Titles: 100%|██████████| 19905/19905 [00:00<00:00, 5276012.46it/s]\n",
      "/Users/manavrajivmoorthy/miniconda3/envs/conda-env/lib/python3.10/site-packages/pandas/core/arraylike.py:399: RuntimeWarning: divide by zero encountered in log1p\n",
      "  result = getattr(ufunc, method)(*inputs, **kwargs)\n",
      "Generating title embeddings: 100%|██████████| 39/39 [00:14<00:00,  2.69it/s]\n",
      "/Users/manavrajivmoorthy/miniconda3/envs/conda-env/lib/python3.10/site-packages/pandas/core/arraylike.py:399: RuntimeWarning: divide by zero encountered in log1p\n",
      "  result = getattr(ufunc, method)(*inputs, **kwargs)\n",
      "Generating title embeddings: 100%|██████████| 39/39 [00:11<00:00,  3.55it/s]\n"
     ]
    }
   ],
   "source": [
    "use_title_feats = True\n",
    "\n",
    "train_nx = to_networkx(train_data, to_undirected=True)\n",
    "x_train, node_ids, scaler, group_encoder, title_model = build_feature_matrix_train(\n",
    "    train_nx, metadata_df, use_title_feats=use_title_feats\n",
    ")\n",
    "\n",
    "val_nx = to_networkx(val_data, to_undirected=True)\n",
    "x_val, node_ids_val = build_feature_matrix_valtest(\n",
    "    val_nx,\n",
    "    metadata_df,\n",
    "    scaler,\n",
    "    group_encoder,\n",
    "    title_model,\n",
    "    use_title_feats=use_title_feats,\n",
    ")\n",
    "\n",
    "test_nx = to_networkx(test_data, to_undirected=True)\n",
    "x_test, node_ids_test = build_feature_matrix_valtest(\n",
    "    test_nx,\n",
    "    metadata_df,\n",
    "    scaler,\n",
    "    group_encoder,\n",
    "    title_model,\n",
    "    use_title_feats=use_title_feats,\n",
    ")"
   ]
  },
  {
   "cell_type": "code",
   "execution_count": 14,
   "metadata": {},
   "outputs": [],
   "source": [
    "# Node features\n",
    "train_data.x = x_train\n",
    "val_data.x = x_val\n",
    "test_data.x = x_test\n",
    "\n",
    "# Graph structures for message passing\n",
    "train_edge_index = train_data.edge_index\n",
    "val_edge_index = val_data.edge_index\n",
    "test_edge_index = test_data.edge_index\n",
    "\n",
    "\n",
    "# Supervision labels\n",
    "train_pos_edge_index = train_data.pos_edge_label_index\n",
    "val_pos_edge_index = val_data.pos_edge_label_index\n",
    "test_pos_edge_index = test_data.pos_edge_label_index"
   ]
  },
  {
   "cell_type": "code",
   "execution_count": 15,
   "metadata": {},
   "outputs": [
    {
     "data": {
      "text/plain": [
       "(396, 396, 396)"
      ]
     },
     "execution_count": 15,
     "metadata": {},
     "output_type": "execute_result"
    }
   ],
   "source": [
    "train_data.num_node_features, val_data.num_node_features, test_data.num_node_features"
   ]
  },
  {
   "cell_type": "markdown",
   "metadata": {},
   "source": [
    "#### Something I Tried - Node2Vec Training for initializing node features (did not include this)"
   ]
  },
  {
   "cell_type": "code",
   "execution_count": null,
   "metadata": {},
   "outputs": [],
   "source": [
    "# node2vec = Node2Vec(\n",
    "#     data.edge_index,\n",
    "#     embedding_dim=64,\n",
    "#     walk_length=20,\n",
    "#     context_size=10,\n",
    "#     walks_per_node=10,\n",
    "# )\n",
    "# loader = node2vec.loader(batch_size=256, shuffle=True)\n",
    "\n",
    "# optimizer = torch.optim.Adam(node2vec.parameters(), lr=0.01)\n",
    "# for epoch in tqdm(range(100)):\n",
    "#     for pos_rw, neg_rw in loader:\n",
    "#         loss = node2vec.loss(pos_rw, neg_rw)\n",
    "#         loss.backward()\n",
    "#         optimizer.step()\n",
    "#         optimizer.zero_grad()"
   ]
  },
  {
   "cell_type": "code",
   "execution_count": null,
   "metadata": {},
   "outputs": [],
   "source": [
    "# embeddings = node2vec.embedding.weight.detach()\n",
    "# print(embeddings.shape)"
   ]
  },
  {
   "cell_type": "markdown",
   "metadata": {},
   "source": [
    "# Training"
   ]
  },
  {
   "cell_type": "code",
   "execution_count": 16,
   "metadata": {},
   "outputs": [],
   "source": [
    "class GNNEncoder(torch.nn.Module):\n",
    "    def __init__(self, in_channels, hidden_channels, out_channels, dropout=0.5):\n",
    "        super().__init__()\n",
    "        self.conv1 = SAGEConv(in_channels, hidden_channels)\n",
    "        self.conv2 = SAGEConv(hidden_channels, out_channels)\n",
    "        self.dropout = dropout\n",
    "\n",
    "    def forward(self, x, edge_index):\n",
    "        x = self.conv1(x, edge_index)\n",
    "        x = F.relu(x)\n",
    "        x = F.dropout(x, p=self.dropout, training=self.training)\n",
    "        x = self.conv2(x, edge_index)\n",
    "        return x\n",
    "\n",
    "\n",
    "class DotProductDecoder(nn.Module):\n",
    "    def __init__(self, embed_dim, dropout=0.5):\n",
    "        super().__init__()\n",
    "        self.mlp = nn.Sequential(\n",
    "            nn.Linear(2 * embed_dim, 32),\n",
    "            nn.ReLU(),\n",
    "            nn.Dropout(p=dropout),\n",
    "            nn.Linear(32, 1),\n",
    "        )\n",
    "\n",
    "    def forward(self, z, edge_index):\n",
    "        src = z[edge_index[0]]\n",
    "        dst = z[edge_index[1]]\n",
    "        out = torch.cat([src, dst], dim=1)\n",
    "        return self.mlp(out).squeeze()\n",
    "\n",
    "\n",
    "class LinkPredictionModel(torch.nn.Module):\n",
    "    def __init__(self, in_channels, hidden_channels, out_channels, dropout=0.5):\n",
    "        super().__init__()\n",
    "        self.encoder = GNNEncoder(in_channels, hidden_channels, out_channels, dropout)\n",
    "        self.decoder = DotProductDecoder(out_channels, dropout)  # or use dot-product\n",
    "\n",
    "    def forward(self, x, edge_index, edge_label_index):\n",
    "        z = self.encoder(x, edge_index)\n",
    "        return torch.sigmoid(self.decoder(z, edge_label_index))  # outputs probs"
   ]
  },
  {
   "cell_type": "code",
   "execution_count": 17,
   "metadata": {},
   "outputs": [],
   "source": [
    "def create_edge_labels(data, pos_edge_index, num_neg_samples=None):\n",
    "    neg_edge_index = negative_sampling(\n",
    "        edge_index=data.edge_index,\n",
    "        num_nodes=data.num_nodes,\n",
    "        num_neg_samples=num_neg_samples or pos_edge_index.size(1),\n",
    "        method=\"sparse\",\n",
    "    )\n",
    "\n",
    "    edge_label_index = torch.cat([pos_edge_index, neg_edge_index], dim=1)\n",
    "    edge_label = torch.cat(\n",
    "        [torch.ones(pos_edge_index.size(1)), torch.zeros(neg_edge_index.size(1))]\n",
    "    )\n",
    "    return edge_label_index, edge_label"
   ]
  },
  {
   "cell_type": "code",
   "execution_count": 18,
   "metadata": {},
   "outputs": [],
   "source": [
    "def train(model, x, edge_index, pos_edge_index, optimizer, device):\n",
    "    model.train()\n",
    "    optimizer.zero_grad()\n",
    "\n",
    "    data = Data(x=x, edge_index=edge_index)\n",
    "\n",
    "    edge_label_index, edge_label = create_edge_labels(\n",
    "        data, pos_edge_index, num_neg_samples=None\n",
    "    )\n",
    "    edge_label_index = edge_label_index.to(device)\n",
    "    edge_label = edge_label.to(device)\n",
    "\n",
    "    pred = model(x.to(device), edge_index.to(device), edge_label_index)\n",
    "    loss = F.binary_cross_entropy(pred, edge_label)\n",
    "    loss.backward()\n",
    "    optimizer.step()\n",
    "    return loss.item()"
   ]
  },
  {
   "cell_type": "code",
   "execution_count": 19,
   "metadata": {},
   "outputs": [],
   "source": [
    "@torch.no_grad()\n",
    "def evaluate(\n",
    "    model,\n",
    "    x,\n",
    "    edge_index,\n",
    "    pos_edge_index,\n",
    "    device,\n",
    "    num_neg_samples=1000,\n",
    "    return_preds=False,\n",
    "):\n",
    "    model.eval()\n",
    "\n",
    "    data = Data(x=x, edge_index=edge_index)\n",
    "\n",
    "    edge_label_index, edge_label = create_edge_labels(\n",
    "        data, pos_edge_index, num_neg_samples=num_neg_samples\n",
    "    )\n",
    "    edge_label_index = edge_label_index.to(device)\n",
    "    edge_label = edge_label.to(device)\n",
    "\n",
    "    pred = model(x.to(device), edge_index.to(device), edge_label_index)\n",
    "    loss = F.binary_cross_entropy(pred, edge_label).item()\n",
    "\n",
    "    pred_cpu = pred.detach().cpu()\n",
    "    label_cpu = edge_label.detach().cpu()\n",
    "\n",
    "    auc_score = roc_auc_score(label_cpu, pred_cpu)\n",
    "    ap_score = average_precision_score(label_cpu, pred_cpu)\n",
    "\n",
    "    if return_preds:\n",
    "        return loss, auc_score, ap_score, pred_cpu, label_cpu\n",
    "    else:\n",
    "        return loss, auc_score, ap_score"
   ]
  },
  {
   "cell_type": "code",
   "execution_count": 20,
   "metadata": {},
   "outputs": [],
   "source": [
    "device = torch.device(\"cuda\" if torch.cuda.is_available() else \"cpu\")\n",
    "\n",
    "model = LinkPredictionModel(\n",
    "    in_channels=train_data.num_node_features,\n",
    "    hidden_channels=32,\n",
    "    out_channels=16,\n",
    "    dropout=0.5,\n",
    ").to(device)\n",
    "\n",
    "optimizer = torch.optim.Adam(model.parameters(), lr=0.001, weight_decay=1e-5)"
   ]
  },
  {
   "cell_type": "code",
   "execution_count": 21,
   "metadata": {},
   "outputs": [
    {
     "name": "stdout",
     "output_type": "stream",
     "text": [
      "Epoch 005 | Train Loss: 0.6964 | Val Loss: 0.6394 | AUC: 0.4932 | AP: 0.8855\n",
      "Epoch 010 | Train Loss: 0.6939 | Val Loss: 0.6556 | AUC: 0.5039 | AP: 0.8883\n",
      "Epoch 015 | Train Loss: 0.6916 | Val Loss: 0.6697 | AUC: 0.5142 | AP: 0.8939\n",
      "Epoch 020 | Train Loss: 0.6894 | Val Loss: 0.6836 | AUC: 0.5198 | AP: 0.8973\n",
      "Early stopping at epoch 24.\n"
     ]
    }
   ],
   "source": [
    "train_losses, val_losses = [], []\n",
    "val_aucs, val_aps = [], []\n",
    "\n",
    "best_val_auc = 0\n",
    "patience = 10\n",
    "patience_counter = 0\n",
    "best_model_state = None\n",
    "num_epochs = 200\n",
    "\n",
    "for epoch in range(1, num_epochs + 1):\n",
    "    train_loss = train(\n",
    "        model, x_train, train_edge_index, train_pos_edge_index, optimizer, device\n",
    "    )\n",
    "    train_losses.append(train_loss)\n",
    "\n",
    "    val_loss, val_auc, val_ap = evaluate(\n",
    "        model, x_val, val_edge_index, val_pos_edge_index, device\n",
    "    )\n",
    "    val_losses.append(val_loss)\n",
    "    val_aucs.append(val_auc)\n",
    "    val_aps.append(val_ap)\n",
    "\n",
    "    if epoch % 5 == 0:\n",
    "        print(\n",
    "            f\"Epoch {epoch:03d} | Train Loss: {train_loss:.4f} | \"\n",
    "            f\"Val Loss: {val_loss:.4f} | AUC: {val_auc:.4f} | AP: {val_ap:.4f}\"\n",
    "        )\n",
    "\n",
    "    if val_auc > best_val_auc:\n",
    "        best_val_auc = val_auc\n",
    "        best_model_state = model.state_dict()\n",
    "        patience_counter = 0\n",
    "    else:\n",
    "        patience_counter += 1\n",
    "        if patience_counter >= patience:\n",
    "            print(f\"Early stopping at epoch {epoch}.\")\n",
    "            break"
   ]
  },
  {
   "cell_type": "code",
   "execution_count": 22,
   "metadata": {},
   "outputs": [
    {
     "data": {
      "image/png": "[encoded data removed]",
      "text/plain": [
       "<Figure size 1000x500 with 1 Axes>"
      ]
     },
     "metadata": {},
     "output_type": "display_data"
    }
   ],
   "source": [
    "plt.figure(figsize=(10, 5))\n",
    "plt.plot(train_losses, label=\"Train Loss\")\n",
    "plt.plot(val_losses, label=\"Val Loss\")\n",
    "plt.xlabel(\"Epoch\")\n",
    "plt.ylabel(\"Loss\")\n",
    "plt.title(\"Training and Validation Loss Plots\")\n",
    "plt.legend()\n",
    "plt.grid(True)\n",
    "plt.tight_layout()\n",
    "plt.show()"
   ]
  },
  {
   "cell_type": "code",
   "execution_count": null,
   "metadata": {},
   "outputs": [],
   "source": [
    "model.load_state_dict(best_model_state)\n",
    "\n",
    "# Evaluate test set and retrieve predictions\n",
    "test_loss, test_auc, test_ap, test_pred, test_label = evaluate(\n",
    "    model, pyg_data, edge_split[\"test_pos\"], device, return_preds=True\n",
    ")\n",
    "\n",
    "print(\n",
    "    f\"\\n✅ Final Test Results | Loss: {test_loss:.4f} | AUC: {test_auc:.4f} | AP: {test_ap:.4f}\"\n",
    ")"
   ]
  },
  {
   "cell_type": "code",
   "execution_count": null,
   "metadata": {},
   "outputs": [],
   "source": [
    "# Get predictions and labels\n",
    "pred = test_pred.cpu().detach().numpy()\n",
    "label = test_label.cpu().detach().numpy()\n",
    "\n",
    "# ROC curve\n",
    "fpr, tpr, _ = roc_curve(label, pred)\n",
    "roc_auc = auc(fpr, tpr)\n",
    "\n",
    "# PR curve\n",
    "precision, recall, _ = precision_recall_curve(label, pred)\n",
    "pr_auc = auc(recall, precision)\n",
    "\n",
    "plt.figure(figsize=(12, 5))\n",
    "plt.subplot(1, 2, 1)\n",
    "plt.plot(fpr, tpr, label=f\"ROC AUC = {roc_auc:.4f}\")\n",
    "plt.xlabel(\"False Positive Rate\")\n",
    "plt.ylabel(\"True Positive Rate\")\n",
    "plt.title(\"ROC Curve\")\n",
    "plt.legend()\n",
    "\n",
    "plt.subplot(1, 2, 2)\n",
    "plt.plot(recall, precision, label=f\"PR AUC = {pr_auc:.4f}\")\n",
    "plt.xlabel(\"Recall\")\n",
    "plt.ylabel(\"Precision\")\n",
    "plt.title(\"Precision-Recall Curve\")\n",
    "plt.legend()\n",
    "plt.tight_layout()\n",
    "plt.show()"
   ]
  },
  {
   "cell_type": "markdown",
   "metadata": {},
   "source": [
    "### Masking of edges - inductive link prediction"
   ]
  },
  {
   "cell_type": "code",
   "execution_count": null,
   "metadata": {},
   "outputs": [],
   "source": [
    "# Masking of edges\n",
    "SEED = 42\n",
    "np.random.seed(SEED)\n",
    "torch.manual_seed(SEED)\n",
    "\n",
    "transform = RandomLinkSplit(\n",
    "    num_val=0.1,\n",
    "    num_test=0.2,\n",
    "    is_undirected=True,\n",
    "    split_labels=True,\n",
    "    add_negative_train_samples=False,\n",
    ")\n",
    "\n",
    "train_data, val_data, test_data = transform(pyg_data)"
   ]
  },
  {
   "cell_type": "code",
   "execution_count": null,
   "metadata": {},
   "outputs": [],
   "source": [
    "def train(model, data, pos_edge_label, optimizer, device):\n",
    "    model.train()\n",
    "    optimizer.zero_grad()\n",
    "\n",
    "    edge_label_index, edge_label = create_edge_labels(\n",
    "        data, pos_edge_label, num_neg_samples=None\n",
    "    )\n",
    "    edge_label_index = edge_label_index.to(device)\n",
    "    edge_label = edge_label.to(device)\n",
    "\n",
    "    out = model(data.x.to(device), data.edge_index.to(device), edge_label_index)\n",
    "    loss = F.binary_cross_entropy(out, edge_label)\n",
    "    loss.backward()\n",
    "    optimizer.step()\n",
    "    return loss.item()"
   ]
  },
  {
   "cell_type": "code",
   "execution_count": null,
   "metadata": {},
   "outputs": [],
   "source": [
    "@torch.no_grad()\n",
    "def evaluate(\n",
    "    model, data, pos_edge_label, device, num_neg_samples=1000, return_preds=False\n",
    "):\n",
    "    model.eval()\n",
    "\n",
    "    edge_label_index, edge_label = create_edge_labels(\n",
    "        data, pos_edge_label, num_neg_samples=num_neg_samples\n",
    "    )\n",
    "    edge_label_index = edge_label_index.to(device)\n",
    "    edge_label = edge_label.to(device)\n",
    "\n",
    "    pred = model(data.x.to(device), data.edge_index.to(device), edge_label_index)\n",
    "    loss = F.binary_cross_entropy(pred, edge_label).item()\n",
    "\n",
    "    pred_cpu = pred.detach().cpu()\n",
    "    label_cpu = edge_label.detach().cpu()\n",
    "    auc_score = roc_auc_score(label_cpu, pred_cpu)\n",
    "    ap_score = average_precision_score(label_cpu, pred_cpu)\n",
    "\n",
    "    if return_preds:\n",
    "        return loss, auc_score, ap_score, pred_cpu, label_cpu\n",
    "    else:\n",
    "        return loss, auc_score, ap_score"
   ]
  },
  {
   "cell_type": "code",
   "execution_count": null,
   "metadata": {},
   "outputs": [],
   "source": [
    "device = torch.device(\"cuda\" if torch.cuda.is_available() else \"cpu\")\n",
    "\n",
    "model = LinkPredictionModel(\n",
    "    in_channels=pyg_data.num_node_features, hidden_channels=64, out_channels=32\n",
    ").to(device)\n",
    "\n",
    "optimizer = torch.optim.Adam(model.parameters(), lr=0.001)"
   ]
  },
  {
   "cell_type": "code",
   "execution_count": null,
   "metadata": {},
   "outputs": [],
   "source": [
    "train_losses, val_losses = [], []\n",
    "val_aucs, val_aps = [], []\n",
    "\n",
    "best_val_auc = 0\n",
    "patience = 10\n",
    "patience_counter = 0\n",
    "best_model_state = None\n",
    "num_epochs = 200\n",
    "\n",
    "for epoch in range(1, num_epochs + 1):\n",
    "    train_loss = train(\n",
    "        model, train_data, train_data.pos_edge_label_index, optimizer, device\n",
    "    )\n",
    "    train_losses.append(train_loss)\n",
    "\n",
    "    val_loss, val_auc, val_ap = evaluate(\n",
    "        model, val_data, val_data.pos_edge_label_index, device\n",
    "    )\n",
    "    val_losses.append(val_loss)\n",
    "    val_aucs.append(val_auc)\n",
    "    val_aps.append(val_ap)\n",
    "\n",
    "    if epoch % 5 == 0:\n",
    "        print(\n",
    "            f\"Epoch {epoch:03d} | Train Loss: {train_loss:.4f} | \"\n",
    "            f\"Val Loss: {val_loss:.4f} | AUC: {val_auc:.4f} | AP: {val_ap:.4f}\"\n",
    "        )\n",
    "\n",
    "    if val_auc > best_val_auc:\n",
    "        best_val_auc = val_auc\n",
    "        best_model_state = model.state_dict()\n",
    "        patience_counter = 0\n",
    "    else:\n",
    "        patience_counter += 1\n",
    "        if patience_counter >= patience:\n",
    "            print(f\"Early stopping triggered at epoch {epoch}.\")\n",
    "            break"
   ]
  },
  {
   "cell_type": "code",
   "execution_count": null,
   "metadata": {},
   "outputs": [],
   "source": [
    "model.load_state_dict(best_model_state)\n",
    "\n",
    "# Evaluate test set and retrieve predictions\n",
    "test_loss, test_auc, test_ap, test_pred, test_label = evaluate(\n",
    "    model, pyg_data, edge_split[\"test_pos\"], device, return_preds=True\n",
    ")\n",
    "\n",
    "print(\n",
    "    f\"\\n✅ Final Test Results | Loss: {test_loss:.4f} | AUC: {test_auc:.4f} | AP: {test_ap:.4f}\"\n",
    ")"
   ]
  },
  {
   "cell_type": "code",
   "execution_count": null,
   "metadata": {},
   "outputs": [],
   "source": [
    "plt.figure(figsize=(10, 5))\n",
    "plt.plot(train_losses, label=\"Train Loss\")\n",
    "plt.plot(val_losses, label=\"Val Loss\")\n",
    "plt.xlabel(\"Epoch\")\n",
    "plt.ylabel(\"Loss\")\n",
    "plt.title(\"Training and Validation Loss Plots\")\n",
    "plt.legend()\n",
    "plt.grid(True)\n",
    "plt.tight_layout()\n",
    "plt.show()"
   ]
  },
  {
   "cell_type": "code",
   "execution_count": null,
   "metadata": {},
   "outputs": [],
   "source": [
    "# Get predictions and labels\n",
    "pred = test_pred.cpu().detach().numpy()\n",
    "label = test_label.cpu().detach().numpy()\n",
    "\n",
    "# ROC curve\n",
    "fpr, tpr, _ = roc_curve(label, pred)\n",
    "roc_auc = auc(fpr, tpr)\n",
    "\n",
    "# PR curve\n",
    "precision, recall, _ = precision_recall_curve(label, pred)\n",
    "pr_auc = auc(recall, precision)\n",
    "\n",
    "plt.figure(figsize=(12, 5))\n",
    "plt.subplot(1, 2, 1)\n",
    "plt.plot(fpr, tpr, label=f\"ROC AUC = {roc_auc:.4f}\")\n",
    "plt.xlabel(\"False Positive Rate\")\n",
    "plt.ylabel(\"True Positive Rate\")\n",
    "plt.title(\"ROC Curve\")\n",
    "plt.legend()\n",
    "\n",
    "plt.subplot(1, 2, 2)\n",
    "plt.plot(recall, precision, label=f\"PR AUC = {pr_auc:.4f}\")\n",
    "plt.xlabel(\"Recall\")\n",
    "plt.ylabel(\"Precision\")\n",
    "plt.title(\"Precision-Recall Curve\")\n",
    "plt.legend()\n",
    "plt.tight_layout()\n",
    "plt.show()"
   ]
  },
  {
   "cell_type": "code",
   "execution_count": null,
   "metadata": {},
   "outputs": [],
   "source": []
  }
 ],
 "metadata": {
  "kernelspec": {
   "display_name": "conda-env",
   "language": "python",
   "name": "python3"
  },
  "language_info": {
   "codemirror_mode": {
    "name": "ipython",
    "version": 3
   },
   "file_extension": ".py",
   "mimetype": "text/x-python",
   "name": "python",
   "nbconvert_exporter": "python",
   "pygments_lexer": "ipython3",
   "version": "3.10.13"
  }
 },
 "nbformat": 4,
 "nbformat_minor": 2
}
